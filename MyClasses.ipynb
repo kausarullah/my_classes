{
 "cells": [
  {
   "cell_type": "code",
   "execution_count": 1,
   "id": "ad9fd944",
   "metadata": {},
   "outputs": [],
   "source": [
    "from sklearn.base import BaseEstimator,TransformerMixin\n",
    "class Percentile(BaseEstimator, TransformerMixin):\n",
    "    def __init__(self):\n",
    "        self = self\n",
    "        self.lower = .1\n",
    "        self.upper = .99\n",
    "    def fit(self, X, y=None):\n",
    "        self.X = X.values\n",
    "        self.lower_limit = np.quantile(X, self.lower)\n",
    "        self.upper_limit = np.quantile(X, self.upper)\n",
    "        return self\n",
    "    def transform(self, X):\n",
    "        self.X = X.values\n",
    "        self.X = np.where(np.abs(X) > self.upper_limit, self.upper_limit, self.X)\n",
    "        transform_X = np.where(np.abs(X) < self.lower_limit, self.lower_limit, self.X)\n",
    "        return transform_X"
   ]
  },
  {
   "cell_type": "code",
   "execution_count": 2,
   "id": "f03ed090",
   "metadata": {},
   "outputs": [],
   "source": [
    "class IQR(BaseEstimator,TransformerMixin):\n",
    "    def __int__(self):\n",
    "        sefl = self\n",
    "    def fit(self, X, y=None):\n",
    "        self.X = X.values\n",
    "        self.IQR = np.quantile(X, .75) - np.quantile(X, .25)\n",
    "        self.upper = np.quantile(X, .75) + 1.5* self.IQR\n",
    "        self.lower = np.quantile(X, .25) - 1.5* self.IQR\n",
    "        return self\n",
    "    def transform(self, X):\n",
    "        self.X = X.values\n",
    "        self.X = np.where(np.abs(self.X) > self.upper, self.upper,self.X)\n",
    "        X_transform = np.where(np.abs(self.X) < self.lower, self.lower, self.X )\n",
    "        return X_transform"
   ]
  },
  {
   "cell_type": "code",
   "execution_count": 3,
   "id": "1e19e96a",
   "metadata": {},
   "outputs": [],
   "source": [
    "from sklearn.base import TransformerMixin\n",
    "class ZScore(BaseEstimator,TransformerMixin):\n",
    "    def __init__(self):\n",
    "        self.mean_ = None\n",
    "        self.std_ = None\n",
    "        \n",
    "        \n",
    "    def fit(self, X, y=None):\n",
    "        X = X.values\n",
    "        self.mean_ = np.mean(X)\n",
    "        self.std_ = np.std(X)\n",
    "        self.upper = self.mean_ + 3 * self.std_\n",
    "        self.lower = self.mean_ - 3 * self.std_\n",
    "        \n",
    "        return self\n",
    "    \n",
    "    def transform(self, X, y=None):\n",
    "        self.X = X.values\n",
    "        self.X = np.where(np.abs(self.X) > self.upper, self.upper,self.X)\n",
    "        X_transform = np.where(np.abs(self.X) < self.lower, self.lower, self.X )\n",
    "        return X_transform"
   ]
  },
  {
   "cell_type": "code",
   "execution_count": 4,
   "id": "0b213889",
   "metadata": {},
   "outputs": [],
   "source": [
    "from sklearn.base import BaseEstimator,TransformerMixin\n",
    "class PCA(BaseEstimator,TransformerMixin):\n",
    "    def __init__(self, n_component):\n",
    "        self = self\n",
    "        self.n_component = n_component\n",
    "    def fit(self, X):\n",
    "        self.X = X\n",
    "        self.mean = np.mean(X)\n",
    "        self.mean_centering = X - self.mean\n",
    "        cov_matrix = np.cov(self.mean_centering.T)\n",
    "        e_value,e_vector = np.linalg.eig(cov_matrix)\n",
    "        self.e_vectors = e_vector[::-1][0:self.n_component]\n",
    "        \n",
    "        return self\n",
    "    def transform(self, X):\n",
    "        X = X - np.mean(X)\n",
    "        transformed_X = np.dot(X, self.e_vectors.T)\n",
    "        return transformed_X"
   ]
  },
  {
   "cell_type": "code",
   "execution_count": null,
   "id": "a8d6058e",
   "metadata": {},
   "outputs": [],
   "source": [
    "class DuplicateColumnRemover:\n",
    "    def fit(self, X):\n",
    "        self.duplicate_columns_ = []\n",
    "        self.unique_columns_ = []\n",
    "\n",
    "        # Check for duplicate columns\n",
    "        duplicate_columns = set()\n",
    "        for i in range(X.shape[1]):\n",
    "            col_i = X.iloc[:, i]\n",
    "            for j in range(i + 1, X.shape[1]):\n",
    "                col_j = X.iloc[:, j]\n",
    "                if col_i.equals(col_j):\n",
    "                    duplicate_columns.add(X.columns[j])\n",
    "\n",
    "        # Split columns into duplicate and unique\n",
    "        for column in X.columns:\n",
    "            if column in duplicate_columns:\n",
    "                self.duplicate_columns_.append(column)\n",
    "            else:\n",
    "                self.unique_columns_.append(column)\n",
    "\n",
    "    def transform(self, X):\n",
    "        return X[self.unique_columns_]\n",
    "\n",
    "    def fit_transform(self, X):\n",
    "        self.fit(X)\n",
    "        return self.transform(X)"
   ]
  },
  {
   "cell_type": "code",
   "execution_count": 1,
   "id": "9c911f19",
   "metadata": {},
   "outputs": [],
   "source": [
    "class Correlation():\n",
    "    def __init__(self, threshold):\n",
    "        self.threshold = threshold\n",
    "    def fit(self, X):\n",
    "        self.X = X\n",
    "        correlation = X.corr()\n",
    "        column = correlation.columns\n",
    "        self.colum_to_drop = set()\n",
    "        for i in range(len(column)):\n",
    "            for j in range(i + 1, len(column)):\n",
    "                if correlation.loc[column[i], column[j]] > self.threshold:\n",
    "                    self.colum_to_drop.add(column[j])\n",
    "    def transform(self, X):\n",
    "        \n",
    "        new_X = X.drop(columns=self.colum_to_drop)\n",
    "        return new_X\n",
    "    def fit_transform(self,X):\n",
    "        self.fit(X)\n",
    "        return self.transform(X)"
   ]
  },
  {
   "cell_type": "code",
   "execution_count": null,
   "id": "1eac235b",
   "metadata": {},
   "outputs": [],
   "source": []
  },
  {
   "cell_type": "code",
   "execution_count": null,
   "id": "5b192916",
   "metadata": {},
   "outputs": [],
   "source": []
  },
  {
   "cell_type": "code",
   "execution_count": null,
   "id": "766b06f6",
   "metadata": {},
   "outputs": [],
   "source": []
  }
 ],
 "metadata": {
  "kernelspec": {
   "display_name": "Python 3 (ipykernel)",
   "language": "python",
   "name": "python3"
  },
  "language_info": {
   "codemirror_mode": {
    "name": "ipython",
    "version": 3
   },
   "file_extension": ".py",
   "mimetype": "text/x-python",
   "name": "python",
   "nbconvert_exporter": "python",
   "pygments_lexer": "ipython3",
   "version": "3.9.13"
  }
 },
 "nbformat": 4,
 "nbformat_minor": 5
}
